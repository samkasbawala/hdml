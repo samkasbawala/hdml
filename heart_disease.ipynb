{
 "cells": [
  {
   "cell_type": "markdown",
   "id": "cff74eb3",
   "metadata": {},
   "source": [
    "# HDML\n",
    "\n",
    "This notebook explores the [heart disease dataset maintained by UCI](https://archive.ics.uci.edu/ml/datasets/heart+disease) by visualizing the data and building machine learning models in order to try and classify if an individual has heart disease."
   ]
  },
  {
   "cell_type": "markdown",
   "id": "3f092e99",
   "metadata": {},
   "source": [
    "## Utils and Constants"
   ]
  },
  {
   "cell_type": "code",
   "execution_count": 1,
   "id": "a02239f4",
   "metadata": {},
   "outputs": [],
   "source": [
    "# Utility functions, and constants\n",
    "import os\n",
    "\n",
    "ROOT_DIR = \".\"\n",
    "IMAGES_DIR = os.path.join(ROOT_DIR, \"images\")\n",
    "DATA_DIR = os.path.join(ROOT_DIR, \"data\")\n",
    "\n",
    "os.makedirs(IMAGES_DIR, exist_ok=True)\n",
    "os.makedirs(DATA_DIR, exist_ok=True)\n",
    "\n",
    "def save_fig(figure_name: str, tight_layout: bool = True, fig_extension: str = \"png\", resolution: int = 300) -> None:\n",
    "    \"\"\"Saves the figure with the specified figure name\"\"\"\n",
    "\n",
    "    # Path of the image being saved\n",
    "    path = os.path.join(IMAGES_DIR, figure_name + \".\" + fig_extension)\n",
    "\n",
    "    # Save the image\n",
    "    print(\"Saving figure\", figure_name)\n",
    "\n",
    "    if tight_layout:\n",
    "        plt.tight_layout()\n",
    "\n",
    "    plt.savefig(path, format=fig_extension, dpi=resolution)"
   ]
  },
  {
   "cell_type": "markdown",
   "id": "b159b5cf",
   "metadata": {},
   "source": [
    "## Download the Data"
   ]
  },
  {
   "cell_type": "code",
   "execution_count": 2,
   "id": "a2a0286d",
   "metadata": {},
   "outputs": [],
   "source": [
    "import requests\n",
    "\n",
    "DATA_URL = \"https://archive.ics.uci.edu/ml/machine-learning-databases/heart-disease/\"\n",
    "\n",
    "cleveland = DATA_URL + \"cleveland.data\"\n",
    "processed_cleveland = DATA_URL + \"processed.cleveland.data\"\n",
    "\n",
    "cleveland_path = os.path.join(DATA_DIR, \"raw_cleveland.data\")\n",
    "processed_cleveland_path = os.path.join(DATA_DIR, \"cleaned_cleveland.csv\")\n",
    "\n",
    "def download_data(url: str, path: str, verbose: int = 0) -> None:\n",
    "    \"\"\"Downloads the data from the specified url and saves it to the specified path\"\"\"\n",
    "\n",
    "    if verbose:\n",
    "        print(f\"Downloading dataset from {url} ...\")\n",
    "    \n",
    "    response = requests.get(url)\n",
    "    \n",
    "    with open(path, \"wb\") as file:\n",
    "        file.write(response.content)\n",
    "        \n",
    "        if verbose:\n",
    "            print(f\"\\nFile saved!\\nLocation: {path}\")    "
   ]
  },
  {
   "cell_type": "code",
   "execution_count": 3,
   "id": "ad78013b",
   "metadata": {},
   "outputs": [
    {
     "name": "stdout",
     "output_type": "stream",
     "text": [
      "Downloading dataset from https://archive.ics.uci.edu/ml/machine-learning-databases/heart-disease/cleveland.data ...\n",
      "\n",
      "File saved!\n",
      "Location: ./data/raw_cleveland.data\n"
     ]
    }
   ],
   "source": [
    "download_data(cleveland, cleveland_path, verbose=1)"
   ]
  },
  {
   "cell_type": "code",
   "execution_count": 4,
   "id": "111bf396",
   "metadata": {},
   "outputs": [
    {
     "name": "stdout",
     "output_type": "stream",
     "text": [
      "Downloading dataset from https://archive.ics.uci.edu/ml/machine-learning-databases/heart-disease/processed.cleveland.data ...\n",
      "\n",
      "File saved!\n",
      "Location: ./data/cleaned_cleveland.csv\n"
     ]
    }
   ],
   "source": [
    "download_data(processed_cleveland, processed_cleveland_path,verbose=1)"
   ]
  },
  {
   "cell_type": "markdown",
   "id": "abaafb1e",
   "metadata": {},
   "source": [
    "### Adding Headers to the Downloaded Data\n",
    "\n",
    "The downloaded data does not have any headers in the file, so we will manually added it to the cleaned dataset. There is a description of the headers on the site linked at the top of this notebook. For completeness, descriptions will also be added here in this notebook."
   ]
  },
  {
   "cell_type": "markdown",
   "id": "d38a1b06",
   "metadata": {},
   "source": [
    "|**Feature**|**Description**|\n",
    "|:-:|:-|\n",
    "|age|Age in years|\n",
    "|sex|Sex; 0 means female, 1 means male|\n",
    "|cp|Chest pain type, of which there are four categories: 1 means typical angina, 2 means atypical angina, 3 means non-anginal pain, and 4 means asymptomatic|\n",
    "|trestbps|Resting blood pressure, measured in mm Hg on admission to the hospital|\n",
    "|chol|Serum cholesterol measured in mg/dl|\n",
    "|fbs|Fasting blood sugar; 1 means > 120 mg/dl, 0 otherwise|\n",
    "|restecg|Resting electrocardiographic results in which there are 3 catgories: 0 means normal, 1 means the individual has ST-T wave abnormality (T wave inversions and/or ST elevation or depression of > 0.05 mV), and 2 means the individual is showing probable or definite left ventricular hypertrophy by Estes' criteria|\n",
    "|thalach|Maximum heart rate achieved|\n",
    "|exang|Exercise induced angina, where 1 means yes and 0 means no|\n",
    "|oldpeak|ST depression induced by exercise relative to rest|\n",
    "|slope|The slope of the peak exercise ST Segment of which there are 3 categories: 1 means upsloping, 2 means flat, and 3 means downsloping|\n",
    "|ca|Number of major vessels (0-3) colored by flourosopy|\n",
    "|thal|Thalassemia, where 3 is normal, 6 is fixed defect, and 7 is reversable defect|\n",
    "|num|Presence of heart disease in the patient. It is integer valued from 0 (no presence) to 4.|"
   ]
  },
  {
   "cell_type": "code",
   "execution_count": 5,
   "id": "7374c8f6",
   "metadata": {},
   "outputs": [],
   "source": [
    "cleveland_headers_string = \"age,sex,cp,trestbps,chol,fbs,restecg,thalach,exang,oldpeak,slope,ca,thal,num\"\n",
    "\n",
    "download_data(processed_cleveland, processed_cleveland_path, verbose=0)\n",
    "\n",
    "with open(processed_cleveland_path, \"r\") as file:\n",
    "    data = cleveland_headers_string + \"\\n\" + file.read()\n",
    "\n",
    "with open(processed_cleveland_path, \"w+\") as file:    \n",
    "    file.write(data)"
   ]
  },
  {
   "cell_type": "markdown",
   "id": "af692eda",
   "metadata": {},
   "source": [
    "## Exploring and Visualizing the Data"
   ]
  },
  {
   "cell_type": "code",
   "execution_count": 6,
   "id": "5c2f2c6c",
   "metadata": {},
   "outputs": [
    {
     "data": {
      "text/html": [
       "<div>\n",
       "<style scoped>\n",
       "    .dataframe tbody tr th:only-of-type {\n",
       "        vertical-align: middle;\n",
       "    }\n",
       "\n",
       "    .dataframe tbody tr th {\n",
       "        vertical-align: top;\n",
       "    }\n",
       "\n",
       "    .dataframe thead th {\n",
       "        text-align: right;\n",
       "    }\n",
       "</style>\n",
       "<table border=\"1\" class=\"dataframe\">\n",
       "  <thead>\n",
       "    <tr style=\"text-align: right;\">\n",
       "      <th></th>\n",
       "      <th>age</th>\n",
       "      <th>sex</th>\n",
       "      <th>cp</th>\n",
       "      <th>trestbps</th>\n",
       "      <th>chol</th>\n",
       "      <th>fbs</th>\n",
       "      <th>restecg</th>\n",
       "      <th>thalach</th>\n",
       "      <th>exang</th>\n",
       "      <th>oldpeak</th>\n",
       "      <th>slope</th>\n",
       "      <th>ca</th>\n",
       "      <th>thal</th>\n",
       "      <th>num</th>\n",
       "    </tr>\n",
       "  </thead>\n",
       "  <tbody>\n",
       "    <tr>\n",
       "      <th>0</th>\n",
       "      <td>63.0</td>\n",
       "      <td>1.0</td>\n",
       "      <td>1.0</td>\n",
       "      <td>145.0</td>\n",
       "      <td>233.0</td>\n",
       "      <td>1.0</td>\n",
       "      <td>2.0</td>\n",
       "      <td>150.0</td>\n",
       "      <td>0.0</td>\n",
       "      <td>2.3</td>\n",
       "      <td>3.0</td>\n",
       "      <td>0.0</td>\n",
       "      <td>6.0</td>\n",
       "      <td>0</td>\n",
       "    </tr>\n",
       "    <tr>\n",
       "      <th>1</th>\n",
       "      <td>67.0</td>\n",
       "      <td>1.0</td>\n",
       "      <td>4.0</td>\n",
       "      <td>160.0</td>\n",
       "      <td>286.0</td>\n",
       "      <td>0.0</td>\n",
       "      <td>2.0</td>\n",
       "      <td>108.0</td>\n",
       "      <td>1.0</td>\n",
       "      <td>1.5</td>\n",
       "      <td>2.0</td>\n",
       "      <td>3.0</td>\n",
       "      <td>3.0</td>\n",
       "      <td>2</td>\n",
       "    </tr>\n",
       "    <tr>\n",
       "      <th>2</th>\n",
       "      <td>67.0</td>\n",
       "      <td>1.0</td>\n",
       "      <td>4.0</td>\n",
       "      <td>120.0</td>\n",
       "      <td>229.0</td>\n",
       "      <td>0.0</td>\n",
       "      <td>2.0</td>\n",
       "      <td>129.0</td>\n",
       "      <td>1.0</td>\n",
       "      <td>2.6</td>\n",
       "      <td>2.0</td>\n",
       "      <td>2.0</td>\n",
       "      <td>7.0</td>\n",
       "      <td>1</td>\n",
       "    </tr>\n",
       "    <tr>\n",
       "      <th>3</th>\n",
       "      <td>37.0</td>\n",
       "      <td>1.0</td>\n",
       "      <td>3.0</td>\n",
       "      <td>130.0</td>\n",
       "      <td>250.0</td>\n",
       "      <td>0.0</td>\n",
       "      <td>0.0</td>\n",
       "      <td>187.0</td>\n",
       "      <td>0.0</td>\n",
       "      <td>3.5</td>\n",
       "      <td>3.0</td>\n",
       "      <td>0.0</td>\n",
       "      <td>3.0</td>\n",
       "      <td>0</td>\n",
       "    </tr>\n",
       "    <tr>\n",
       "      <th>4</th>\n",
       "      <td>41.0</td>\n",
       "      <td>0.0</td>\n",
       "      <td>2.0</td>\n",
       "      <td>130.0</td>\n",
       "      <td>204.0</td>\n",
       "      <td>0.0</td>\n",
       "      <td>2.0</td>\n",
       "      <td>172.0</td>\n",
       "      <td>0.0</td>\n",
       "      <td>1.4</td>\n",
       "      <td>1.0</td>\n",
       "      <td>0.0</td>\n",
       "      <td>3.0</td>\n",
       "      <td>0</td>\n",
       "    </tr>\n",
       "  </tbody>\n",
       "</table>\n",
       "</div>"
      ],
      "text/plain": [
       "    age  sex   cp  trestbps   chol  fbs  restecg  thalach  exang  oldpeak  \\\n",
       "0  63.0  1.0  1.0     145.0  233.0  1.0      2.0    150.0    0.0      2.3   \n",
       "1  67.0  1.0  4.0     160.0  286.0  0.0      2.0    108.0    1.0      1.5   \n",
       "2  67.0  1.0  4.0     120.0  229.0  0.0      2.0    129.0    1.0      2.6   \n",
       "3  37.0  1.0  3.0     130.0  250.0  0.0      0.0    187.0    0.0      3.5   \n",
       "4  41.0  0.0  2.0     130.0  204.0  0.0      2.0    172.0    0.0      1.4   \n",
       "\n",
       "   slope   ca thal  num  \n",
       "0    3.0  0.0  6.0    0  \n",
       "1    2.0  3.0  3.0    2  \n",
       "2    2.0  2.0  7.0    1  \n",
       "3    3.0  0.0  3.0    0  \n",
       "4    1.0  0.0  3.0    0  "
      ]
     },
     "execution_count": 6,
     "metadata": {},
     "output_type": "execute_result"
    }
   ],
   "source": [
    "import pandas as pd\n",
    "\n",
    "heart_disease = pd.read_csv(processed_cleveland_path)\n",
    "heart_disease.head()"
   ]
  },
  {
   "cell_type": "code",
   "execution_count": 7,
   "id": "da51c312",
   "metadata": {},
   "outputs": [
    {
     "name": "stdout",
     "output_type": "stream",
     "text": [
      "<class 'pandas.core.frame.DataFrame'>\n",
      "RangeIndex: 303 entries, 0 to 302\n",
      "Data columns (total 14 columns):\n",
      " #   Column    Non-Null Count  Dtype  \n",
      "---  ------    --------------  -----  \n",
      " 0   age       303 non-null    float64\n",
      " 1   sex       303 non-null    float64\n",
      " 2   cp        303 non-null    float64\n",
      " 3   trestbps  303 non-null    float64\n",
      " 4   chol      303 non-null    float64\n",
      " 5   fbs       303 non-null    float64\n",
      " 6   restecg   303 non-null    float64\n",
      " 7   thalach   303 non-null    float64\n",
      " 8   exang     303 non-null    float64\n",
      " 9   oldpeak   303 non-null    float64\n",
      " 10  slope     303 non-null    float64\n",
      " 11  ca        303 non-null    object \n",
      " 12  thal      303 non-null    object \n",
      " 13  num       303 non-null    int64  \n",
      "dtypes: float64(11), int64(1), object(2)\n",
      "memory usage: 33.3+ KB\n"
     ]
    }
   ],
   "source": [
    "heart_disease.info()"
   ]
  },
  {
   "cell_type": "code",
   "execution_count": 8,
   "id": "921c6d1a",
   "metadata": {},
   "outputs": [
    {
     "data": {
      "text/html": [
       "<div>\n",
       "<style scoped>\n",
       "    .dataframe tbody tr th:only-of-type {\n",
       "        vertical-align: middle;\n",
       "    }\n",
       "\n",
       "    .dataframe tbody tr th {\n",
       "        vertical-align: top;\n",
       "    }\n",
       "\n",
       "    .dataframe thead th {\n",
       "        text-align: right;\n",
       "    }\n",
       "</style>\n",
       "<table border=\"1\" class=\"dataframe\">\n",
       "  <thead>\n",
       "    <tr style=\"text-align: right;\">\n",
       "      <th></th>\n",
       "      <th>age</th>\n",
       "      <th>sex</th>\n",
       "      <th>cp</th>\n",
       "      <th>trestbps</th>\n",
       "      <th>chol</th>\n",
       "      <th>fbs</th>\n",
       "      <th>restecg</th>\n",
       "      <th>thalach</th>\n",
       "      <th>exang</th>\n",
       "      <th>oldpeak</th>\n",
       "      <th>slope</th>\n",
       "      <th>num</th>\n",
       "    </tr>\n",
       "  </thead>\n",
       "  <tbody>\n",
       "    <tr>\n",
       "      <th>count</th>\n",
       "      <td>303.000000</td>\n",
       "      <td>303.000000</td>\n",
       "      <td>303.000000</td>\n",
       "      <td>303.000000</td>\n",
       "      <td>303.000000</td>\n",
       "      <td>303.000000</td>\n",
       "      <td>303.000000</td>\n",
       "      <td>303.000000</td>\n",
       "      <td>303.000000</td>\n",
       "      <td>303.000000</td>\n",
       "      <td>303.000000</td>\n",
       "      <td>303.000000</td>\n",
       "    </tr>\n",
       "    <tr>\n",
       "      <th>mean</th>\n",
       "      <td>54.438944</td>\n",
       "      <td>0.679868</td>\n",
       "      <td>3.158416</td>\n",
       "      <td>131.689769</td>\n",
       "      <td>246.693069</td>\n",
       "      <td>0.148515</td>\n",
       "      <td>0.990099</td>\n",
       "      <td>149.607261</td>\n",
       "      <td>0.326733</td>\n",
       "      <td>1.039604</td>\n",
       "      <td>1.600660</td>\n",
       "      <td>0.937294</td>\n",
       "    </tr>\n",
       "    <tr>\n",
       "      <th>std</th>\n",
       "      <td>9.038662</td>\n",
       "      <td>0.467299</td>\n",
       "      <td>0.960126</td>\n",
       "      <td>17.599748</td>\n",
       "      <td>51.776918</td>\n",
       "      <td>0.356198</td>\n",
       "      <td>0.994971</td>\n",
       "      <td>22.875003</td>\n",
       "      <td>0.469794</td>\n",
       "      <td>1.161075</td>\n",
       "      <td>0.616226</td>\n",
       "      <td>1.228536</td>\n",
       "    </tr>\n",
       "    <tr>\n",
       "      <th>min</th>\n",
       "      <td>29.000000</td>\n",
       "      <td>0.000000</td>\n",
       "      <td>1.000000</td>\n",
       "      <td>94.000000</td>\n",
       "      <td>126.000000</td>\n",
       "      <td>0.000000</td>\n",
       "      <td>0.000000</td>\n",
       "      <td>71.000000</td>\n",
       "      <td>0.000000</td>\n",
       "      <td>0.000000</td>\n",
       "      <td>1.000000</td>\n",
       "      <td>0.000000</td>\n",
       "    </tr>\n",
       "    <tr>\n",
       "      <th>25%</th>\n",
       "      <td>48.000000</td>\n",
       "      <td>0.000000</td>\n",
       "      <td>3.000000</td>\n",
       "      <td>120.000000</td>\n",
       "      <td>211.000000</td>\n",
       "      <td>0.000000</td>\n",
       "      <td>0.000000</td>\n",
       "      <td>133.500000</td>\n",
       "      <td>0.000000</td>\n",
       "      <td>0.000000</td>\n",
       "      <td>1.000000</td>\n",
       "      <td>0.000000</td>\n",
       "    </tr>\n",
       "    <tr>\n",
       "      <th>50%</th>\n",
       "      <td>56.000000</td>\n",
       "      <td>1.000000</td>\n",
       "      <td>3.000000</td>\n",
       "      <td>130.000000</td>\n",
       "      <td>241.000000</td>\n",
       "      <td>0.000000</td>\n",
       "      <td>1.000000</td>\n",
       "      <td>153.000000</td>\n",
       "      <td>0.000000</td>\n",
       "      <td>0.800000</td>\n",
       "      <td>2.000000</td>\n",
       "      <td>0.000000</td>\n",
       "    </tr>\n",
       "    <tr>\n",
       "      <th>75%</th>\n",
       "      <td>61.000000</td>\n",
       "      <td>1.000000</td>\n",
       "      <td>4.000000</td>\n",
       "      <td>140.000000</td>\n",
       "      <td>275.000000</td>\n",
       "      <td>0.000000</td>\n",
       "      <td>2.000000</td>\n",
       "      <td>166.000000</td>\n",
       "      <td>1.000000</td>\n",
       "      <td>1.600000</td>\n",
       "      <td>2.000000</td>\n",
       "      <td>2.000000</td>\n",
       "    </tr>\n",
       "    <tr>\n",
       "      <th>max</th>\n",
       "      <td>77.000000</td>\n",
       "      <td>1.000000</td>\n",
       "      <td>4.000000</td>\n",
       "      <td>200.000000</td>\n",
       "      <td>564.000000</td>\n",
       "      <td>1.000000</td>\n",
       "      <td>2.000000</td>\n",
       "      <td>202.000000</td>\n",
       "      <td>1.000000</td>\n",
       "      <td>6.200000</td>\n",
       "      <td>3.000000</td>\n",
       "      <td>4.000000</td>\n",
       "    </tr>\n",
       "  </tbody>\n",
       "</table>\n",
       "</div>"
      ],
      "text/plain": [
       "              age         sex          cp    trestbps        chol         fbs  \\\n",
       "count  303.000000  303.000000  303.000000  303.000000  303.000000  303.000000   \n",
       "mean    54.438944    0.679868    3.158416  131.689769  246.693069    0.148515   \n",
       "std      9.038662    0.467299    0.960126   17.599748   51.776918    0.356198   \n",
       "min     29.000000    0.000000    1.000000   94.000000  126.000000    0.000000   \n",
       "25%     48.000000    0.000000    3.000000  120.000000  211.000000    0.000000   \n",
       "50%     56.000000    1.000000    3.000000  130.000000  241.000000    0.000000   \n",
       "75%     61.000000    1.000000    4.000000  140.000000  275.000000    0.000000   \n",
       "max     77.000000    1.000000    4.000000  200.000000  564.000000    1.000000   \n",
       "\n",
       "          restecg     thalach       exang     oldpeak       slope         num  \n",
       "count  303.000000  303.000000  303.000000  303.000000  303.000000  303.000000  \n",
       "mean     0.990099  149.607261    0.326733    1.039604    1.600660    0.937294  \n",
       "std      0.994971   22.875003    0.469794    1.161075    0.616226    1.228536  \n",
       "min      0.000000   71.000000    0.000000    0.000000    1.000000    0.000000  \n",
       "25%      0.000000  133.500000    0.000000    0.000000    1.000000    0.000000  \n",
       "50%      1.000000  153.000000    0.000000    0.800000    2.000000    0.000000  \n",
       "75%      2.000000  166.000000    1.000000    1.600000    2.000000    2.000000  \n",
       "max      2.000000  202.000000    1.000000    6.200000    3.000000    4.000000  "
      ]
     },
     "execution_count": 8,
     "metadata": {},
     "output_type": "execute_result"
    }
   ],
   "source": [
    "heart_disease.describe()"
   ]
  },
  {
   "cell_type": "markdown",
   "id": "5f2d15d6",
   "metadata": {},
   "source": [
    "We can see that there are no null values in this dataset, so no extra work will be needed there. There are a couple of observations that we can make however about the data:\n",
    "- There are more data points for males than females. Males are represented by a `1` while females are represented by a `0`. Since the mean is around `.68` we know that almost 68% of the data points are men.\n",
    "- All of the records in this data set are adults, in particular they are all over the age of 29. It would have been nice to see more datapoints from younger adults, as anecdotal evidence would suggest that older individuals are more susceptible to heart disease."
   ]
  },
  {
   "cell_type": "markdown",
   "id": "e57f33cc",
   "metadata": {},
   "source": [
    "Let's also add an extra column that is binary, indicating whether or not someone has heart disease in general"
   ]
  },
  {
   "cell_type": "code",
   "execution_count": 9,
   "id": "98268afa",
   "metadata": {},
   "outputs": [],
   "source": [
    "import numpy as np\n",
    "\n",
    "heart_disease[\"heart_disease\"] = np.where(heart_disease[\"num\"] == 0, 0, 1)"
   ]
  },
  {
   "cell_type": "code",
   "execution_count": 10,
   "id": "6a244133",
   "metadata": {},
   "outputs": [
    {
     "name": "stdout",
     "output_type": "stream",
     "text": [
      "Saving figure attribute_histogram_plots\n"
     ]
    },
    {
     "data": {
      "image/png": "[encoded data removed]",
      "text/plain": [
       "<Figure size 1000x1000 with 16 Axes>"
      ]
     },
     "metadata": {},
     "output_type": "display_data"
    }
   ],
   "source": [
    "%matplotlib inline\n",
    "import matplotlib.pyplot as plt\n",
    "\n",
    "heart_disease.hist(figsize=(10, 10))\n",
    "save_fig(\"attribute_histogram_plots\")\n",
    "plt.show()"
   ]
  },
  {
   "cell_type": "markdown",
   "id": "f2555fd6",
   "metadata": {},
   "source": [
    "We can also see that this dataset is slightly imbalanced when it comes to the number of people who have no heart disease compared to those that have some type of heart disease."
   ]
  },
  {
   "cell_type": "markdown",
   "id": "372e781f",
   "metadata": {},
   "source": [
    "### Linear Relationships?\n",
    "\n",
    "Let's construct a correlation matrix to see if there are any linear relationships. It's important to remember that this will miss out on any non-linear relationships"
   ]
  },
  {
   "cell_type": "code",
   "execution_count": 11,
   "id": "be402ce6",
   "metadata": {},
   "outputs": [],
   "source": [
    "correlation_matrix = heart_disease.corr()"
   ]
  },
  {
   "cell_type": "code",
   "execution_count": 12,
   "id": "8e0e3833",
   "metadata": {},
   "outputs": [
    {
     "data": {
      "text/plain": [
       "heart_disease    1.000000\n",
       "num              0.830081\n",
       "exang            0.431894\n",
       "oldpeak          0.424510\n",
       "cp               0.414446\n",
       "slope            0.339213\n",
       "sex              0.276816\n",
       "age              0.223120\n",
       "restecg          0.169202\n",
       "trestbps         0.150825\n",
       "chol             0.085164\n",
       "fbs              0.025264\n",
       "thalach         -0.417167\n",
       "Name: heart_disease, dtype: float64"
      ]
     },
     "execution_count": 12,
     "metadata": {},
     "output_type": "execute_result"
    }
   ],
   "source": [
    "correlation_matrix[\"heart_disease\"].sort_values(ascending=False)"
   ]
  }
 ],
 "metadata": {
  "kernelspec": {
   "display_name": "Python 3 (ipykernel)",
   "language": "python",
   "name": "python3"
  },
  "language_info": {
   "codemirror_mode": {
    "name": "ipython",
    "version": 3
   },
   "file_extension": ".py",
   "mimetype": "text/x-python",
   "name": "python",
   "nbconvert_exporter": "python",
   "pygments_lexer": "ipython3",
   "version": "3.7.13"
  }
 },
 "nbformat": 4,
 "nbformat_minor": 5
}
